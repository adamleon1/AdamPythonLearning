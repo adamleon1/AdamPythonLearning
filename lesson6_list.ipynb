{
 "cells": [
  {
   "cell_type": "code",
   "execution_count": 2,
   "id": "b80e70cb",
   "metadata": {},
   "outputs": [],
   "source": [
    "colors = ['red','green','blue']"
   ]
  },
  {
   "cell_type": "code",
   "execution_count": 3,
   "id": "0c6bad82",
   "metadata": {},
   "outputs": [],
   "source": [
    "maths = ['triangle','circle','square','rectangle','polgon','octigone']"
   ]
  },
  {
   "cell_type": "code",
   "execution_count": 4,
   "id": "ff6474b6",
   "metadata": {},
   "outputs": [],
   "source": [
    "a = 10\n",
    "b = 20\n",
    "c = 25"
   ]
  },
  {
   "cell_type": "code",
   "execution_count": 5,
   "id": "33b3fee7",
   "metadata": {},
   "outputs": [
    {
     "data": {
      "text/plain": [
       "94.99177595981665"
      ]
     },
     "execution_count": 5,
     "metadata": {},
     "output_type": "execute_result"
    }
   ],
   "source": [
    "# s = (a + b + c ) / 2\n",
    "# A = sqrt(s(s-a)(s-b)(s-c))\n",
    "                                                                      \n",
    "s = (a + b + c ) / 2\n",
    "A = (s*(s-a)*(s-b)*(s-c)) **0.5\n",
    "A\n"
   ]
  },
  {
   "cell_type": "code",
   "execution_count": 6,
   "id": "41f91add",
   "metadata": {},
   "outputs": [
    {
     "data": {
      "text/plain": [
       "60000"
      ]
     },
     "execution_count": 6,
     "metadata": {},
     "output_type": "execute_result"
    }
   ],
   "source": [
    "h = 200\n",
    "w = 300\n",
    "A = h*w\n",
    "A\n",
    "\n"
   ]
  },
  {
   "cell_type": "code",
   "execution_count": 7,
   "id": "2128fa33",
   "metadata": {},
   "outputs": [],
   "source": [
    "# if one brick has area of 15 how many break are there  in wal  l of  h=500  w=200  "
   ]
  },
  {
   "cell_type": "code",
   "execution_count": 8,
   "id": "4ee4c412",
   "metadata": {},
   "outputs": [
    {
     "data": {
      "text/plain": [
       "1000.0"
      ]
     },
     "execution_count": 8,
     "metadata": {},
     "output_type": "execute_result"
    }
   ],
   "source": [
    "h = 100\n",
    "w = 500\n",
    "b = 10*5\n",
    "total  =h*w/b\n",
    "total"
   ]
  },
  {
   "cell_type": "code",
   "execution_count": null,
   "id": "3d715f9f",
   "metadata": {},
   "outputs": [],
   "source": []
  }
 ],
 "metadata": {
  "kernelspec": {
   "display_name": "Python 3",
   "language": "python",
   "name": "python3"
  },
  "language_info": {
   "codemirror_mode": {
    "name": "ipython",
    "version": 3
   },
   "file_extension": ".py",
   "mimetype": "text/x-python",
   "name": "python",
   "nbconvert_exporter": "python",
   "pygments_lexer": "ipython3",
   "version": "3.11.9"
  }
 },
 "nbformat": 4,
 "nbformat_minor": 5
}
