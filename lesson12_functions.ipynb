{
 "cells": [
  {
   "cell_type": "code",
   "execution_count": 1,
   "id": "53ab0967",
   "metadata": {},
   "outputs": [],
   "source": [
    "def add(a,b):\n",
    "    return a + b"
   ]
  },
  {
   "cell_type": "code",
   "execution_count": null,
   "id": "60653f3a",
   "metadata": {},
   "outputs": [
    {
     "data": {
      "text/plain": [
       "300"
      ]
     },
     "execution_count": 2,
     "metadata": {},
     "output_type": "execute_result"
    }
   ],
   "source": [
    "add(100,200)"
   ]
  },
  {
   "cell_type": "code",
   "execution_count": null,
   "id": "0f351006",
   "metadata": {},
   "outputs": [
    {
     "name": "stdout",
     "output_type": "stream",
     "text": [
      "churp\n"
     ]
    }
   ],
   "source": [
    "### functions\n",
    "\n",
    "\n",
    "\n",
    "def what_animal_say(name):\n",
    "    name = name.lower()\n",
    "    if name==\"cat\":\n",
    "        print('miaoo')\n",
    "    elif name==\"horse\":\n",
    "        print('nay')\n",
    "    elif name==\"fish\":\n",
    "        print('glub')\n",
    "    elif name==\"dog\":\n",
    "        print('bark')\n",
    "    elif name==\"bird\":\n",
    "        print('churp') \n",
    "        \n",
    "        \n",
    "        \n",
    "what_animal_say('cat' \n",
    "'')"
   ]
  },
  {
   "cell_type": "code",
   "execution_count": null,
   "id": "dc6ce1b6",
   "metadata": {},
   "outputs": [],
   "source": []
  }
 ],
 "metadata": {
  "kernelspec": {
   "display_name": "Python 3",
   "language": "python",
   "name": "python3"
  },
  "language_info": {
   "codemirror_mode": {
    "name": "ipython",
    "version": 3
   },
   "file_extension": ".py",
   "mimetype": "text/x-python",
   "name": "python",
   "nbconvert_exporter": "python",
   "pygments_lexer": "ipython3",
   "version": "3.11.9"
  }
 },
 "nbformat": 4,
 "nbformat_minor": 5
}
