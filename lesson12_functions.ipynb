{
 "cells": [
  {
   "cell_type": "code",
   "execution_count": 1,
   "id": "53ab0967",
   "metadata": {},
   "outputs": [],
   "source": [
    "def add(a,b):\n",
    "    return a + b"
   ]
  },
  {
   "cell_type": "code",
   "execution_count": null,
   "id": "60653f3a",
   "metadata": {},
   "outputs": [
    {
     "data": {
      "text/plain": [
       "300"
      ]
     },
     "execution_count": 2,
     "metadata": {},
     "output_type": "execute_result"
    }
   ],
   "source": [
    "add(100,200)"
   ]
  },
  {
   "cell_type": "code",
   "execution_count": null,
   "id": "0f351006",
   "metadata": {},
   "outputs": [
    {
     "name": "stdout",
     "output_type": "stream",
     "text": [
      "churp\n"
     ]
    }
   ],
   "source": [
    "### functions\n",
    "\n",
    "\n",
    "\n",
    "def what_animal_say(name):\n",
    "    name = name.lower()\n",
    "    if name==\"cat\":\n",
    "        print('miaoo')\n",
    "    elif name==\"horse\":\n",
    "        print('nay')\n",
    "    elif name==\"fish\":\n",
    "        print('glub')\n",
    "    elif name==\"dog\":\n",
    "        print('bark')\n",
    "    elif name==\"bird\":\n",
    "        print('churp') \n",
    "        \n",
    "        \n",
    "        \n",
    "what_animal_say('cat' \n",
    "'')"
   ]
  },
  {
   "cell_type": "code",
   "execution_count": 1,
   "id": "dc6ce1b6",
   "metadata": {},
   "outputs": [],
   "source": [
    "# please find the formaula for changing C to F\n",
    "\n",
    "# (5°C × 9/5) + 32 = 41°F\n",
    "\n",
    "\n",
    "def C2F(C):\n",
    "    F =( C * 9/5) +32\n",
    "    return F\n",
    "\n",
    "\n",
    "\n"
   ]
  },
  {
   "cell_type": "code",
   "execution_count": 2,
   "id": "3d622bf3",
   "metadata": {},
   "outputs": [
    {
     "data": {
      "text/plain": [
       "41.0"
      ]
     },
     "execution_count": 2,
     "metadata": {},
     "output_type": "execute_result"
    }
   ],
   "source": [
    "C2F(5)"
   ]
  },
  {
   "cell_type": "code",
   "execution_count": 4,
   "id": "9062dd05",
   "metadata": {},
   "outputs": [
    {
     "data": {
      "text/plain": [
       "212.0"
      ]
     },
     "execution_count": 4,
     "metadata": {},
     "output_type": "execute_result"
    }
   ],
   "source": [
    "C2F (100)"
   ]
  },
  {
   "cell_type": "code",
   "execution_count": 5,
   "id": "6bbe8835",
   "metadata": {},
   "outputs": [],
   "source": [
    "# F2C"
   ]
  },
  {
   "cell_type": "code",
   "execution_count": 7,
   "id": "3797285f",
   "metadata": {},
   "outputs": [],
   "source": [
    "def F2C(F):\n",
    "    # C =(-17.78°C × 9/5) + 32 = 0°F\n",
    "    C= (F - 32) * 5/9 \n",
    "    return C\n"
   ]
  },
  {
   "cell_type": "code",
   "execution_count": 9,
   "id": "c219c565",
   "metadata": {},
   "outputs": [
    {
     "data": {
      "text/plain": [
       "-6.666666666666667"
      ]
     },
     "execution_count": 9,
     "metadata": {},
     "output_type": "execute_result"
    }
   ],
   "source": [
    "F2C(20)"
   ]
  },
  {
   "cell_type": "code",
   "execution_count": null,
   "id": "1431ab44",
   "metadata": {},
   "outputs": [],
   "source": []
  }
 ],
 "metadata": {
  "kernelspec": {
   "display_name": "Python 3",
   "language": "python",
   "name": "python3"
  },
  "language_info": {
   "codemirror_mode": {
    "name": "ipython",
    "version": 3
   },
   "file_extension": ".py",
   "mimetype": "text/x-python",
   "name": "python",
   "nbconvert_exporter": "python",
   "pygments_lexer": "ipython3",
   "version": "3.11.9"
  }
 },
 "nbformat": 4,
 "nbformat_minor": 5
}
