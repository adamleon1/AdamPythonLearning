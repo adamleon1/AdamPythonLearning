{
 "cells": [
  {
   "cell_type": "code",
   "execution_count": 1,
   "id": "53ab0967",
   "metadata": {},
   "outputs": [],
   "source": [
    "def add(a,b):\n",
    "    return a + b"
   ]
  },
  {
   "cell_type": "code",
   "execution_count": 2,
   "id": "60653f3a",
   "metadata": {},
   "outputs": [
    {
     "data": {
      "text/plain": [
       "300"
      ]
     },
     "execution_count": 2,
     "metadata": {},
     "output_type": "execute_result"
    }
   ],
   "source": [
    "add(100,200)"
   ]
  },
  {
   "cell_type": "code",
   "execution_count": 3,
   "id": "0f351006",
   "metadata": {},
   "outputs": [
    {
     "name": "stdout",
     "output_type": "stream",
     "text": [
      "miaoo\n"
     ]
    }
   ],
   "source": [
    "### functions\n",
    "\n",
    "\n",
    "\n",
    "def what_animal_say(name):\n",
    "    name = name.lower()\n",
    "    if name==\"cat\":\n",
    "        print('miaoo')\n",
    "    elif name==\"horse\":\n",
    "        print('nay')\n",
    "    elif name==\"fish\":\n",
    "        print('glub')\n",
    "    elif name==\"dog\":\n",
    "        print('bark')\n",
    "    elif name==\"bird\":\n",
    "        print('churp') \n",
    "        \n",
    "        \n",
    "        \n",
    "what_animal_say('cat' \n",
    "'')"
   ]
  },
  {
   "cell_type": "code",
   "execution_count": 4,
   "id": "dc6ce1b6",
   "metadata": {},
   "outputs": [],
   "source": [
    "# please find the formaula for changing C to F\n",
    "\n",
    "# (5°C × 9/5) + 32 = 41°F\n",
    "\n",
    "\n",
    "def C2F(C):\n",
    "    F =( C * 9/5) +32\n",
    "    return F\n",
    "\n",
    "\n",
    "\n"
   ]
  },
  {
   "cell_type": "code",
   "execution_count": 5,
   "id": "3d622bf3",
   "metadata": {},
   "outputs": [
    {
     "data": {
      "text/plain": [
       "41.0"
      ]
     },
     "execution_count": 5,
     "metadata": {},
     "output_type": "execute_result"
    }
   ],
   "source": [
    "C2F(5)"
   ]
  },
  {
   "cell_type": "code",
   "execution_count": 6,
   "id": "9062dd05",
   "metadata": {},
   "outputs": [
    {
     "data": {
      "text/plain": [
       "212.0"
      ]
     },
     "execution_count": 6,
     "metadata": {},
     "output_type": "execute_result"
    }
   ],
   "source": [
    "C2F (100)"
   ]
  },
  {
   "cell_type": "code",
   "execution_count": 7,
   "id": "6bbe8835",
   "metadata": {},
   "outputs": [],
   "source": [
    "# F2C"
   ]
  },
  {
   "cell_type": "code",
   "execution_count": 8,
   "id": "3797285f",
   "metadata": {},
   "outputs": [],
   "source": [
    "def F2C(F):\n",
    "    # C =(-17.78°C × 9/5) + 32 = 0°F\n",
    "    C= (F - 32) * 5/9 \n",
    "    return C\n"
   ]
  },
  {
   "cell_type": "code",
   "execution_count": 9,
   "id": "c219c565",
   "metadata": {},
   "outputs": [
    {
     "data": {
      "text/plain": [
       "-6.666666666666667"
      ]
     },
     "execution_count": 9,
     "metadata": {},
     "output_type": "execute_result"
    }
   ],
   "source": [
    "F2C(20)"
   ]
  },
  {
   "cell_type": "code",
   "execution_count": 13,
   "id": "1431ab44",
   "metadata": {},
   "outputs": [],
   "source": [
    "## make a function that will give you square root of any number\n"
   ]
  },
  {
   "cell_type": "code",
   "execution_count": 16,
   "id": "69232846",
   "metadata": {},
   "outputs": [],
   "source": [
    "def square_root(x):\n",
    "    return x**(0.5)\n"
   ]
  },
  {
   "cell_type": "code",
   "execution_count": 18,
   "id": "aec58eb7",
   "metadata": {},
   "outputs": [
    {
     "data": {
      "text/plain": [
       "3.0"
      ]
     },
     "execution_count": 18,
     "metadata": {},
     "output_type": "execute_result"
    }
   ],
   "source": [
    "square_root(9)"
   ]
  },
  {
   "cell_type": "code",
   "execution_count": null,
   "id": "0f165082",
   "metadata": {},
   "outputs": [
    {
     "data": {
      "text/plain": [
       "13.0"
      ]
     },
     "execution_count": 20,
     "metadata": {},
     "output_type": "execute_result"
    }
   ],
   "source": [
    "square_root(169)"
   ]
  },
  {
   "cell_type": "code",
   "execution_count": 23,
   "id": "a9d3345c",
   "metadata": {},
   "outputs": [
    {
     "data": {
      "text/plain": [
       "14.0"
      ]
     },
     "execution_count": 23,
     "metadata": {},
     "output_type": "execute_result"
    }
   ],
   "source": [
    "square_root(196)"
   ]
  },
  {
   "cell_type": "code",
   "execution_count": 30,
   "id": "035f81e3",
   "metadata": {},
   "outputs": [],
   "source": [
    "def two_to_the_power(x):\n",
    "    return 2**x"
   ]
  },
  {
   "cell_type": "code",
   "execution_count": 37,
   "id": "52339ebb",
   "metadata": {},
   "outputs": [
    {
     "ename": "MemoryError",
     "evalue": "",
     "output_type": "error",
     "traceback": [
      "\u001b[31m---------------------------------------------------------------------------\u001b[39m",
      "\u001b[31mMemoryError\u001b[39m                               Traceback (most recent call last)",
      "\u001b[36mCell\u001b[39m\u001b[36m \u001b[39m\u001b[32mIn[37]\u001b[39m\u001b[32m, line 1\u001b[39m\n\u001b[32m----> \u001b[39m\u001b[32m1\u001b[39m \u001b[43mtwo_to_the_power\u001b[49m\u001b[43m(\u001b[49m\u001b[32;43m2000000000000000000000000000000000000000000000000000000000\u001b[39;49m\u001b[43m)\u001b[49m\n",
      "\u001b[36mCell\u001b[39m\u001b[36m \u001b[39m\u001b[32mIn[30]\u001b[39m\u001b[32m, line 2\u001b[39m, in \u001b[36mtwo_to_the_power\u001b[39m\u001b[34m(x)\u001b[39m\n\u001b[32m      1\u001b[39m \u001b[38;5;28;01mdef\u001b[39;00m\u001b[38;5;250m \u001b[39m\u001b[34mtwo_to_the_power\u001b[39m(x):\n\u001b[32m----> \u001b[39m\u001b[32m2\u001b[39m     \u001b[38;5;28;01mreturn\u001b[39;00m \u001b[32;43m2\u001b[39;49m\u001b[43m*\u001b[49m\u001b[43m*\u001b[49m\u001b[43mx\u001b[49m\n",
      "\u001b[31mMemoryError\u001b[39m: "
     ]
    }
   ],
   "source": [
    "two_to_the_power(2000000000000000000000000000000000000000000000000000000000)"
   ]
  },
  {
   "cell_type": "code",
   "execution_count": null,
   "id": "35ffe9ed",
   "metadata": {},
   "outputs": [],
   "source": []
  }
 ],
 "metadata": {
  "kernelspec": {
   "display_name": "Python 3",
   "language": "python",
   "name": "python3"
  },
  "language_info": {
   "codemirror_mode": {
    "name": "ipython",
    "version": 3
   },
   "file_extension": ".py",
   "mimetype": "text/x-python",
   "name": "python",
   "nbconvert_exporter": "python",
   "pygments_lexer": "ipython3",
   "version": "3.11.9"
  }
 },
 "nbformat": 4,
 "nbformat_minor": 5
}
