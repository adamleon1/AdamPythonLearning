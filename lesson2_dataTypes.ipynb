{
 "cells": [
  {
   "cell_type": "code",
   "execution_count": 1,
   "id": "78942ec4",
   "metadata": {},
   "outputs": [
    {
     "name": "stdout",
     "output_type": "stream",
     "text": [
      "red\n"
     ]
    }
   ],
   "source": [
    "color = 'red'\n",
    "print(color)"
   ]
  },
  {
   "cell_type": "code",
   "execution_count": 5,
   "id": "0a94c8a0",
   "metadata": {},
   "outputs": [],
   "source": [
    "# total data types\n",
    "name = 'Adam'\n",
    "age =  19 # int\n",
    "height = 140.5\n",
    "boy = True"
   ]
  },
  {
   "cell_type": "code",
   "execution_count": null,
   "id": "4e06a173",
   "metadata": {},
   "outputs": [
    {
     "name": "stdout",
     "output_type": "stream",
     "text": [
      "adam is mroe than 18 now\n"
     ]
    }
   ],
   "source": [
    "if age > 18:\n",
    "    print('adam is mroe than 18 now=86u05y5uyy5yoi')\n",
    "else:\n",
    "    print('adam is a kidosxksoxksoxksX')"
   ]
  },
  {
   "cell_type": "code",
   "execution_count": null,
   "id": "e766a593",
   "metadata": {},
   "outputs": [],
   "source": []
  },
  {
   "cell_type": "code",
   "execution_count": null,
   "id": "47782af7",
   "metadata": {},
   "outputs": [],
   "source": []
  },
  {
   "cell_type": "code",
   "execution_count": null,
   "id": "f8702c35",
   "metadata": {},
   "outputs": [],
   "source": []
  },
  {
   "cell_type": "code",
   "execution_count": null,
   "id": "6912ab25",
   "metadata": {},
   "outputs": [],
   "source": []
  }
 ],
 "metadata": {
  "kernelspec": {
   "display_name": "Python 3",
   "language": "python",
   "name": "python3"
  },
  "language_info": {
   "codemirror_mode": {
    "name": "ipython",
    "version": 3
   },
   "file_extension": ".py",
   "mimetype": "text/x-python",
   "name": "python",
   "nbconvert_exporter": "python",
   "pygments_lexer": "ipython3",
   "version": "3.11.9"
  }
 },
 "nbformat": 4,
 "nbformat_minor": 5
}
