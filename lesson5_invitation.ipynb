{
 "cells": [
  {
   "cell_type": "code",
   "execution_count": 1,
   "id": "9ac7a6db",
   "metadata": {},
   "outputs": [],
   "source": [
    "fruits = ['apple','orange','mango']"
   ]
  },
  {
   "cell_type": "code",
   "execution_count": null,
   "id": "0e33f58d",
   "metadata": {},
   "outputs": [
    {
     "name": "stdout",
     "output_type": "stream",
     "text": [
      "hi andre you are invited to dinner. Please arrive on time.\n",
      "hi aaron you are invited to dinner. Please arrive on time.\n",
      "hi andy you are invited to dinner. Please arrive on time.\n",
      "hi mark you are invited to dinner. Please arrive on time.\n",
      "hi angela you are invited to dinner. Please arrive on time.\n"
     ]
    }
   ],
   "source": [
    "friends = [\"andre\",\"aaron\",\"andy\",\"mark\",\"angela\"]\n",
    "for f in friends:\n",
    "    print(f'hi {f} you are invited to dinner. Please arrive on time.')\n",
    "    \n"
   ]
  },
  {
   "cell_type": "code",
   "execution_count": 10,
   "id": "b5441b08",
   "metadata": {},
   "outputs": [
    {
     "name": "stdout",
     "output_type": "stream",
     "text": [
      "hello andre, you are invited to dinner please join not later than 7pm \n",
      "hello aaron, you are invited to dinner please join not later than 7:15pm \n",
      "hello andy, you are invited to dinner please join not later than 7:30pm \n",
      "hello mark, you are invited to dinner please join not later than 7:10pm \n"
     ]
    }
   ],
   "source": [
    "friends = {\n",
    "    'andre':'7pm',\n",
    "    'aaron':'7:15pm',\n",
    "    'andy': '7:30pm',\n",
    "    'mark': '7:10pm'}\n",
    "for f,t in friends.items():\n",
    "    print(f'hello {f}, you are invited to dinner please join not later than {t} ')"
   ]
  },
  {
   "cell_type": "code",
   "execution_count": null,
   "id": "61821908",
   "metadata": {},
   "outputs": [],
   "source": [
    "0"
   ]
  }
 ],
 "metadata": {
  "kernelspec": {
   "display_name": "Python 3",
   "language": "python",
   "name": "python3"
  },
  "language_info": {
   "codemirror_mode": {
    "name": "ipython",
    "version": 3
   },
   "file_extension": ".py",
   "mimetype": "text/x-python",
   "name": "python",
   "nbconvert_exporter": "python",
   "pygments_lexer": "ipython3",
   "version": "3.11.9"
  }
 },
 "nbformat": 4,
 "nbformat_minor": 5
}
