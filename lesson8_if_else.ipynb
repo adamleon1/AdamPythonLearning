{
 "cells": [
  {
   "cell_type": "code",
   "execution_count": 1,
   "id": "52224a2b",
   "metadata": {},
   "outputs": [
    {
     "name": "stdout",
     "output_type": "stream",
     "text": [
      "i am good\n"
     ]
    }
   ],
   "source": [
    "temp = 41\n",
    "if temp>50:\n",
    "    print('it literally burning')\n",
    "else:\n",
    "    print('i am good')"
   ]
  },
  {
   "cell_type": "code",
   "execution_count": 6,
   "id": "e6e0b26a",
   "metadata": {},
   "outputs": [],
   "source": [
    "temperatures = ( 48 , 55 , 30 , 27 , 12 )"
   ]
  },
  {
   "cell_type": "code",
   "execution_count": null,
   "id": "8db91d65",
   "metadata": {},
   "outputs": [
    {
     "name": "stdout",
     "output_type": "stream",
     "text": [
      "toooooo much hard it is burning,  48\n",
      "toooooo much hard it is burning,  55\n"
     ]
    }
   ],
   "source": [
    "for temperature in temperatures:\n",
    "    if temperature>40:\n",
    "        print('toooooo much hard it is burning, ',temperature)\n",
    "        "
   ]
  },
  {
   "cell_type": "code",
   "execution_count": null,
   "id": "28836071",
   "metadata": {},
   "outputs": [],
   "source": []
  }
 ],
 "metadata": {
  "kernelspec": {
   "display_name": "Python 3",
   "language": "python",
   "name": "python3"
  },
  "language_info": {
   "codemirror_mode": {
    "name": "ipython",
    "version": 3
   },
   "file_extension": ".py",
   "mimetype": "text/x-python",
   "name": "python",
   "nbconvert_exporter": "python",
   "pygments_lexer": "ipython3",
   "version": "3.11.9"
  }
 },
 "nbformat": 4,
 "nbformat_minor": 5
}
